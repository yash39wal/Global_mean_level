{
 "cells": [
  {
   "cell_type": "code",
   "execution_count": 19,
   "metadata": {},
   "outputs": [],
   "source": [
    "# importing liberaries\n",
    "import netCDF4 as nc\n",
    "import pandas as pd\n",
    "import numpy as np\n",
    "import math as mt\n"
   ]
  },
  {
   "cell_type": "code",
   "execution_count": 20,
   "id": "5dedb36b",
   "metadata": {},
   "outputs": [
    {
     "name": "stdout",
     "output_type": "stream",
     "text": [
      "<class 'netCDF4._netCDF4.Dataset'>\n",
      "root group (NETCDF4 data model, file format HDF5):\n",
      "    institution: DGFI-TUM\n",
      "    source: Open Altimeter Database (OpenADB)\n",
      "    mission: sentinel3ao\n",
      "    long_mission: Sentinel-3A\n",
      "    cycle: 025\n",
      "    pass_number: 0016\n",
      "    ellipsoid: topex\n",
      "    ellipsoid_axis: 6378136.3\n",
      "    ellipsoid_flattening: 0.0033528131778969\n",
      "    first_meas_time: 2017-11-24 10:18:01\n",
      "    last_meas_time: 2017-11-24 10:19:36\n",
      "    creation_date: 2024-07-26 17:11:03\n",
      "    dimensions(sizes): time(73)\n",
      "    variables(dimensions): float64 jday.00(time), float64 glon.00(time), float64 glat.00(time), float32 ssh.55(time), float32 stdalt.06(time), float32 swh.06(time), float64 mssh.05(time), float32 otide.15(time), float32 ltide.15(time), float32 distance.00(time), uint8 sflag.55(time), uint8 oflags.00(time), uint8 iflags.06(time)\n",
      "    groups: \n",
      "<class 'netCDF4._netCDF4.Variable'>\n",
      "float32 ssh.55(time)\n",
      "    units: m\n",
      "    long_name: based on ALES and DTU15\n",
      "    standard_name: Sea Surface Heights (SSH)\n",
      "    nan: 0\n",
      "    valid_range: [38.921 42.175]\n",
      "unlimited dimensions: \n",
      "current shape = (73,)\n",
      "filling on, default _FillValue of 9.969209968386869e+36 used\n"
     ]
    }
   ],
   "source": [
    "# Looking into the Sea surface Height dataset\n",
    "data = nc.Dataset(r'C:\\Studies\\Separate_studies\\Global_Mean_Sea_level\\Sea_surface_Height_008229_sentinel3ao_ales_55\\025\\025_0016ales.55.nc')\n",
    "\n",
    "# Print dataset information or metadata regarding the dataset\n",
    "print(data)\n",
    "\n",
    "# Print the list of variable name \n",
    "# These variable name and records within the variable name behave as dictionary and \n",
    "# to extract the data you need to use the variable name which act as key \n",
    "# To see the list of the variable we can utililize .variable.keys() method\n",
    "#print(data.variables.keys())\n",
    "print(data.variables[\"ssh.55\"])\n",
    "#var_names = data.variables.keys()\n",
    "#print(var_names[\"jday.00\"])\n",
    "\n"
   ]
  }
 ],
 "metadata": {
  "kernelspec": {
   "display_name": "testing",
   "language": "python",
   "name": "python3"
  },
  "language_info": {
   "codemirror_mode": {
    "name": "ipython",
    "version": 3
   },
   "file_extension": ".py",
   "mimetype": "text/x-python",
   "name": "python",
   "nbconvert_exporter": "python",
   "pygments_lexer": "ipython3",
   "version": "3.12.3"
  }
 },
 "nbformat": 4,
 "nbformat_minor": 5
}
